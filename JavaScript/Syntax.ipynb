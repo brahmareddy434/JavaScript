{
 "cells": [
  {
   "cell_type": "markdown",
   "metadata": {},
   "source": [
    "## java Script syntax\n"
   ]
  },
  {
   "attachments": {},
   "cell_type": "markdown",
   "metadata": {},
   "source": [
    "# java script syntax is the set of rules ,how java script program are constructed:\n",
    "//How to create variable:\n",
    "<br>var x;\n",
    "<br>var y;<br>\n",
    "//How to use variables:\n",
    "<br>x=5;<br>\n",
    "y=6;<br>\n",
    "let z=x+y"
   ]
  },
  {
   "attachments": {},
   "cell_type": "markdown",
   "metadata": {},
   "source": [
    "### java script values\n",
    "The Java Script syntax defines two types of values:\n",
    "<br>\n",
    ".fixed values<br>\n",
    ".variable values\n",
    "<br>\n",
    "Fixed values are called Literals.\n",
    "<br>Variable values are called Variables."
   ]
  },
  {
   "attachments": {},
   "cell_type": "markdown",
   "metadata": {},
   "source": [
    "### Java script literals\n",
    "THE two most important syntax rules for fixed values are:\n",
    "<br>1.Numbers are written with or without decimals:\n",
    "<br>\n",
    "10.50<br>1001"
   ]
  },
  {
   "attachments": {},
   "cell_type": "markdown",
   "metadata": {},
   "source": [
    "2.Strings are text ,written within double or single quotes:<br>\n",
    "\"John Doe\"<br>'John Doe'"
   ]
  },
  {
   "attachments": {},
   "cell_type": "markdown",
   "metadata": {},
   "source": [
    "### JavaScript Variables\n",
    "In Programming language ,variables are used to store data values.<br>\n",
    "Java script uses the keywords var,let and const to declare variables.\n",
    "<br>\n",
    "An equal sign is used to  assign to variables.\n",
    "<br>\n",
    "IN this example,x is defined as a variable .then ,x is assigned (given) the value 6:\n"
   ]
  },
  {
   "cell_type": "code",
   "execution_count": 2,
   "metadata": {
    "vscode": {
     "languageId": "javascript"
    }
   },
   "outputs": [
    {
     "ename": "SyntaxError",
     "evalue": "invalid syntax (1200548181.py, line 1)",
     "output_type": "error",
     "traceback": [
      "\u001b[0;36m  Cell \u001b[0;32mIn[2], line 1\u001b[0;36m\u001b[0m\n\u001b[0;31m    <html>\u001b[0m\n\u001b[0m    ^\u001b[0m\n\u001b[0;31mSyntaxError\u001b[0m\u001b[0;31m:\u001b[0m invalid syntax\n"
     ]
    }
   ],
   "source": [
    "<html>\n",
    "<body>\n",
    "\n",
    "<h2>JavaScript Variables</h2>\n",
    "\n",
    "<p>In this example, x is defined as a variable.\n",
    "Then, x is assigned the value of 6:</p>\n",
    "\n",
    "<p id=\"demo\"></p>\n",
    "\n",
    "<script>\n",
    "let x;\n",
    "x = 6;\n",
    "document.getElementById(\"demo\").innerHTML = x;\n",
    "</script>\n",
    "\n",
    "</body>\n",
    "</html>\n"
   ]
  },
  {
   "cell_type": "code",
   "execution_count": 3,
   "metadata": {
    "vscode": {
     "languageId": "html"
    }
   },
   "outputs": [
    {
     "ename": "SyntaxError",
     "evalue": "invalid syntax (3165484128.py, line 2)",
     "output_type": "error",
     "traceback": [
      "\u001b[0;36m  Cell \u001b[0;32mIn[3], line 2\u001b[0;36m\u001b[0m\n\u001b[0;31m    Java Script uses arithmetic operators(+,-,*,/) to compute values:\u001b[0m\n\u001b[0m         ^\u001b[0m\n\u001b[0;31mSyntaxError\u001b[0m\u001b[0;31m:\u001b[0m invalid syntax\n"
     ]
    }
   ],
   "source": [
    "### java script operators\n",
    "Java Script uses arithmetic operators(+,-,*,/) to compute values:\n",
    "<!DOCTYPE html>\n",
    "<html>\n",
    "<body>\n",
    "\n",
    "<h2>JavaScript Operators</h2>\n",
    "\n",
    "<p>JavaScript uses arithmetic operators to compute values (just like algebra).</p>\n",
    "\n",
    "<p id=\"demo\"></p>\n",
    "\n",
    "<script>\n",
    "document.getElementById(\"demo\").innerHTML = (5 + 6) * 10;\n",
    "</script>\n",
    "\n",
    "</body>\n",
    "</html>\n"
   ]
  },
  {
   "cell_type": "code",
   "execution_count": null,
   "metadata": {
    "vscode": {
     "languageId": "html"
    }
   },
   "outputs": [],
   "source": []
  }
 ],
 "metadata": {
  "kernelspec": {
   "display_name": "Python 3",
   "language": "python",
   "name": "python3"
  },
  "language_info": {
   "codemirror_mode": {
    "name": "ipython",
    "version": 3
   },
   "file_extension": ".py",
   "mimetype": "text/x-python",
   "name": "python",
   "nbconvert_exporter": "python",
   "pygments_lexer": "ipython3",
   "version": "3.10.12"
  },
  "orig_nbformat": 4
 },
 "nbformat": 4,
 "nbformat_minor": 2
}
