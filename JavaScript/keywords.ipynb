{
 "cells": [
  {
   "attachments": {},
   "cell_type": "markdown",
   "metadata": {},
   "source": [
    "# Java Script Keywords:\n",
    "Javascript statements always start with keyword To identify a action to be performed."
   ]
  },
  {
   "attachments": {},
   "cell_type": "markdown",
   "metadata": {},
   "source": [
    "<table class=\"ws-table-all\" style=\"width: 100%\">\n",
    "<tbody><tr>\n",
    " <th style=\"height: 25px\">Keyword</th>\n",
    " <th style=\"height: 25px\">Description</th>\n",
    "</tr>\n",
    "\n",
    "<tr>\n",
    "<td class=\"notranslate\">var</td>\n",
    "<td>Declares a variable</td>\n",
    "</tr>\n",
    "<tr>\n",
    "<td class=\"notranslate\">let</td>\n",
    "<td>Declares a block variable</td>\n",
    "</tr>\n",
    "<tr>\n",
    "<td class=\"notranslate\">const</td>\n",
    "<td>Declares a block constant</td>\n",
    "</tr>\n",
    "<tr>\n",
    "<td class=\"notranslate\">if</td>\n",
    "<td>Marks a block of statements to be executed on a condition</td>\n",
    "</tr>\n",
    "<tr>\n",
    "<td class=\"notranslate\">switch</td>\n",
    "<td>Marks a block of statements to be executed in different cases</td>\n",
    "</tr>\n",
    "<tr>\n",
    "<td class=\"notranslate\">for</td>\n",
    "<td>Marks a block of statements to be executed in a loop</td>\n",
    "</tr>\n",
    "<tr>\n",
    "<td class=\"notranslate\">function</td>\n",
    "<td>Declares a function</td>\n",
    "</tr>\n",
    "<tr>\n",
    "<td class=\"notranslate\">return</td>\n",
    "<td>Exits a function</td>\n",
    "</tr>\n",
    "<tr>\n",
    "<td class=\"notranslate\">try</td>\n",
    "<td>Implements error handling to a block of statements</td>\n",
    "</tr>\n",
    "</tbody></table>"
   ]
  },
  {
   "attachments": {},
   "cell_type": "markdown",
   "metadata": {},
   "source": [
    "JavaScript keywords are reserved words.Reserved words cannot be used as the names of variables."
   ]
  },
  {
   "attachments": {},
   "cell_type": "markdown",
   "metadata": {},
   "source": []
  }
 ],
 "metadata": {
  "language_info": {
   "name": "python"
  },
  "orig_nbformat": 4
 },
 "nbformat": 4,
 "nbformat_minor": 2
}
